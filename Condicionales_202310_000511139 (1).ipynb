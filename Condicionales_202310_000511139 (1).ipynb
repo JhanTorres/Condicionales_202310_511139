{
 "cells": [
  {
   "cell_type": "code",
   "execution_count": null,
   "id": "f7c3c416",
   "metadata": {},
   "outputs": [],
   "source": [
    "##Jhan David Torres Espitia\n",
    "##000511139\n",
    "##jhan.torres@upb.edu.co"
   ]
  },
  {
   "cell_type": "code",
   "execution_count": null,
   "id": "5a9c29c0",
   "metadata": {},
   "outputs": [],
   "source": [
    "Nota = float(input(\"Nota:\"))\n",
    "\n",
    "if Nota >= 4.5:\n",
    "    print(\"Excelente\")\n",
    "    \n",
    "elif 4.0 <= Nota < 4.5:\n",
    "    print(\"Buena\") \n",
    "    \n",
    "elif 3.0 <= Nota < 4.0:\n",
    "    print(\"Regular\")\n",
    "        \n",
    "else:\n",
    "    print(\"Malo\")"
   ]
  }
 ],
 "metadata": {
  "kernelspec": {
   "display_name": "Python 3 (ipykernel)",
   "language": "python",
   "name": "python3"
  },
  "language_info": {
   "codemirror_mode": {
    "name": "ipython",
    "version": 3
   },
   "file_extension": ".py",
   "mimetype": "text/x-python",
   "name": "python",
   "nbconvert_exporter": "python",
   "pygments_lexer": "ipython3",
   "version": "3.11.2"
  }
 },
 "nbformat": 4,
 "nbformat_minor": 5
}
